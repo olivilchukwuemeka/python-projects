{
 "cells": [
  {
   "cell_type": "markdown",
   "id": "7373b4f5-8448-4506-9716-054d5dc821ac",
   "metadata": {},
   "source": [
    "### Auralin vs Novdra Drug Efficacy Analysis\n",
    "\n",
    "Core components of out report\n",
    "- Introduction (intro)\n",
    "- Body (Findings)\n",
    "- Conclusion (recommendations)"
   ]
  },
  {
   "cell_type": "markdown",
   "id": "4e701a62-3818-4d5b-86db-0c4546da8e91",
   "metadata": {},
   "source": [
    "#### Introduction\n",
    "\n",
    "- Background of the problem\n",
    "- Objective(s) of the analysis\n",
    "- Scope and limitations"
   ]
  },
  {
   "cell_type": "markdown",
   "id": "8c946fd1-59e3-4d09-afbf-5aa8d7406b0f",
   "metadata": {},
   "source": [
    "\n",
    "\n",
    "##### Background of the problem\n",
    "\n",
    "Increasing rates of incurable diabeted cases has spurred research and development of more efficient and patient-friendly means to manage cases. A new drug __Auralin__ has been developed to replace the current syringe-injected __novodra__. Auralin is meant to provide ease and a more comfortable option to diabetics.\n",
    "\n",
    "##### Objectives of the analysis\n",
    "\n",
    "1. Determine the efficacy of Auralin compared to Novodra\n",
    "2. Determine and compare the adverse reactions\n",
    "3. Economic viability of Auralin\n",
    "\n",
    "##### Scope and limitations\n",
    "\n",
    "1. The clinical trials contained data from 350 treated patients\n",
    "2. The data was delivered containing null values for contact information\n",
    "3.  Missing values in the `address, city, state, country, contact, zip_code`\n",
    "4.  Some states in the `state` column are acronyms while others are long form\n",
    "5. `zip_code` column is a float and not a string\n",
    "6. Multiple phone number formats, the phone number and email addresses are in the same column\n"
   ]
  },
  {
   "cell_type": "markdown",
   "id": "93d74b4f-33fe-42f9-8e2e-41e6e1b58347",
   "metadata": {},
   "source": [
    "\n",
    "##### Data Collection\n",
    "3 csv files: `patients.csv`, `treatments.csv`, `adverse_reactions.csv` containing information on patients, treatments administered, and adverse reactions were downloaded and used for the analysis\n",
    "\n",
    "- Tools used for gathering\n",
    "\n",
    "  MySQL Database, Twitter API"
   ]
  },
  {
   "cell_type": "markdown",
   "id": "a7f6e766-2231-457f-b46e-357d9cad1165",
   "metadata": {},
   "source": [
    "##### About the Data set\n",
    "\n",
    "The data is gotten from a clinical trial for a new drug called \"auralin\". It has been tested on a numbers of patients and the results of the test have been recorded including the adverse reactions.\n",
    "\n",
    "Our analysis is to compare auralin and novodra. Novodra is the current drug available, which is administered using a syringe.The drug needs to be administered multiple times in a day.\n",
    "\n",
    "Auralin is the experimental drug that would be admistered orally\n"
   ]
  },
  {
   "cell_type": "markdown",
   "id": "dda7a844-302c-4ba6-97b3-a66b07dbe24d",
   "metadata": {},
   "source": [
    "##### Data Cleaning and Preparation\n",
    "\n",
    "- Handling missing values and duplicates\n",
    "\n",
    "  Duplicate rows were removed and null values were left as it is. \n",
    "  There were contact details that could not be re-acquired from the patients.\n",
    "\n",
    "  missing values in a patient giving name was corrected\n",
    "\n",
    "  Patients states were all made to be in acronym\n",
    "\n",
    "\n",
    "  Email address were extracted from patients phone number using regex\n",
    "\n",
    "  \n",
    "\n",
    "  \n",
    "  \n",
    "- Data type conversions\n",
    "\n",
    "  Converted weight from pounds to kg, and height from feet to meters\n",
    "\n",
    "\n",
    "- Tools/libraries used\n",
    "\n",
    "  pandas, NumPy,regex matplotlib and seaborn "
   ]
  },
  {
   "cell_type": "markdown",
   "id": "fb3eaa9c-48c4-42aa-b6b7-c6d8fe57ca0d",
   "metadata": {},
   "source": [
    "###### Import the required Python libraries"
   ]
  },
  {
   "cell_type": "code",
   "execution_count": 1,
   "id": "ca9e2631-b714-42eb-9d04-9341a47f1192",
   "metadata": {},
   "outputs": [],
   "source": [
    "import numpy as np, pandas as pd, matplotlib.pyplot as plt, seaborn as sns"
   ]
  },
  {
   "cell_type": "code",
   "execution_count": 2,
   "id": "a76433b6-4898-444c-a914-d2d65db58c2a",
   "metadata": {},
   "outputs": [],
   "source": [
    "patients = pd.read_csv('patients_clean.csv')\n",
    "treatments = pd.read_csv('treatments_clean.csv')"
   ]
  },
  {
   "cell_type": "code",
   "execution_count": 3,
   "id": "cbc406e5-5eb0-46e7-8783-93c115a7932a",
   "metadata": {},
   "outputs": [
    {
     "data": {
      "text/html": [
       "<div>\n",
       "<style scoped>\n",
       "    .dataframe tbody tr th:only-of-type {\n",
       "        vertical-align: middle;\n",
       "    }\n",
       "\n",
       "    .dataframe tbody tr th {\n",
       "        vertical-align: top;\n",
       "    }\n",
       "\n",
       "    .dataframe thead th {\n",
       "        text-align: right;\n",
       "    }\n",
       "</style>\n",
       "<table border=\"1\" class=\"dataframe\">\n",
       "  <thead>\n",
       "    <tr style=\"text-align: right;\">\n",
       "      <th></th>\n",
       "      <th>patient_id</th>\n",
       "      <th>assigned_sex</th>\n",
       "      <th>given_name</th>\n",
       "      <th>surname</th>\n",
       "      <th>address</th>\n",
       "      <th>city</th>\n",
       "      <th>state</th>\n",
       "      <th>zip_code</th>\n",
       "      <th>country</th>\n",
       "      <th>birthdate</th>\n",
       "      <th>weight</th>\n",
       "      <th>height</th>\n",
       "      <th>bmi</th>\n",
       "      <th>phone_number</th>\n",
       "      <th>email</th>\n",
       "    </tr>\n",
       "  </thead>\n",
       "  <tbody>\n",
       "    <tr>\n",
       "      <th>0</th>\n",
       "      <td>1</td>\n",
       "      <td>female</td>\n",
       "      <td>Zoe</td>\n",
       "      <td>Wellish</td>\n",
       "      <td>576 Brown Bear Drive</td>\n",
       "      <td>Rancho California</td>\n",
       "      <td>CA</td>\n",
       "      <td>92390</td>\n",
       "      <td>United States</td>\n",
       "      <td>1976-07-10</td>\n",
       "      <td>121.7</td>\n",
       "      <td>66</td>\n",
       "      <td>19.6</td>\n",
       "      <td>951-719-9170</td>\n",
       "      <td>ZoeWellish@superrito.com</td>\n",
       "    </tr>\n",
       "    <tr>\n",
       "      <th>1</th>\n",
       "      <td>2</td>\n",
       "      <td>female</td>\n",
       "      <td>Pamela</td>\n",
       "      <td>Hill</td>\n",
       "      <td>2370 University Hill Road</td>\n",
       "      <td>Armstrong</td>\n",
       "      <td>IL</td>\n",
       "      <td>61812</td>\n",
       "      <td>United States</td>\n",
       "      <td>1967-04-03</td>\n",
       "      <td>118.8</td>\n",
       "      <td>66</td>\n",
       "      <td>19.2</td>\n",
       "      <td>1 (217) 569-3204</td>\n",
       "      <td>PamelaSHill@cuvox.de</td>\n",
       "    </tr>\n",
       "    <tr>\n",
       "      <th>2</th>\n",
       "      <td>3</td>\n",
       "      <td>male</td>\n",
       "      <td>Jae</td>\n",
       "      <td>Debord</td>\n",
       "      <td>1493 Poling Farm Road</td>\n",
       "      <td>York</td>\n",
       "      <td>NE</td>\n",
       "      <td>68467</td>\n",
       "      <td>United States</td>\n",
       "      <td>1980-02-19</td>\n",
       "      <td>177.8</td>\n",
       "      <td>71</td>\n",
       "      <td>24.8</td>\n",
       "      <td>402-363-6804</td>\n",
       "      <td>JaeMDebord@gustr.com</td>\n",
       "    </tr>\n",
       "    <tr>\n",
       "      <th>3</th>\n",
       "      <td>4</td>\n",
       "      <td>male</td>\n",
       "      <td>Liêm</td>\n",
       "      <td>Phan</td>\n",
       "      <td>2335 Webster Street</td>\n",
       "      <td>Woodbridge</td>\n",
       "      <td>NJ</td>\n",
       "      <td>07095</td>\n",
       "      <td>United States</td>\n",
       "      <td>1951-07-26</td>\n",
       "      <td>220.9</td>\n",
       "      <td>70</td>\n",
       "      <td>31.7</td>\n",
       "      <td>1 (732) 636-8246</td>\n",
       "      <td>PhanBaLiem@jourrapide.com</td>\n",
       "    </tr>\n",
       "    <tr>\n",
       "      <th>4</th>\n",
       "      <td>5</td>\n",
       "      <td>male</td>\n",
       "      <td>Tim</td>\n",
       "      <td>Neudorf</td>\n",
       "      <td>1428 Turkey Pen Lane</td>\n",
       "      <td>Dothan</td>\n",
       "      <td>AL</td>\n",
       "      <td>36303</td>\n",
       "      <td>United States</td>\n",
       "      <td>1928-02-18</td>\n",
       "      <td>192.3</td>\n",
       "      <td>72</td>\n",
       "      <td>26.1</td>\n",
       "      <td>334-515-7487</td>\n",
       "      <td>TimNeudorf@cuvox.de</td>\n",
       "    </tr>\n",
       "  </tbody>\n",
       "</table>\n",
       "</div>"
      ],
      "text/plain": [
       "   patient_id assigned_sex given_name  surname                    address  \\\n",
       "0           1       female        Zoe  Wellish       576 Brown Bear Drive   \n",
       "1           2       female     Pamela     Hill  2370 University Hill Road   \n",
       "2           3         male        Jae   Debord      1493 Poling Farm Road   \n",
       "3           4         male       Liêm     Phan        2335 Webster Street   \n",
       "4           5         male        Tim  Neudorf       1428 Turkey Pen Lane   \n",
       "\n",
       "                city state zip_code        country   birthdate  weight  \\\n",
       "0  Rancho California    CA    92390  United States  1976-07-10   121.7   \n",
       "1          Armstrong    IL    61812  United States  1967-04-03   118.8   \n",
       "2               York    NE    68467  United States  1980-02-19   177.8   \n",
       "3         Woodbridge    NJ    07095  United States  1951-07-26   220.9   \n",
       "4             Dothan    AL    36303  United States  1928-02-18   192.3   \n",
       "\n",
       "   height   bmi      phone_number                      email  \n",
       "0      66  19.6      951-719-9170   ZoeWellish@superrito.com  \n",
       "1      66  19.2  1 (217) 569-3204       PamelaSHill@cuvox.de  \n",
       "2      71  24.8      402-363-6804       JaeMDebord@gustr.com  \n",
       "3      70  31.7  1 (732) 636-8246  PhanBaLiem@jourrapide.com  \n",
       "4      72  26.1      334-515-7487        TimNeudorf@cuvox.de  "
      ]
     },
     "execution_count": 3,
     "metadata": {},
     "output_type": "execute_result"
    }
   ],
   "source": [
    "patients.head()"
   ]
  },
  {
   "cell_type": "code",
   "execution_count": 20,
   "id": "b2b26774-cd0f-40c9-b896-4590df00d8f4",
   "metadata": {},
   "outputs": [
    {
     "data": {
      "text/html": [
       "<div>\n",
       "<style scoped>\n",
       "    .dataframe tbody tr th:only-of-type {\n",
       "        vertical-align: middle;\n",
       "    }\n",
       "\n",
       "    .dataframe tbody tr th {\n",
       "        vertical-align: top;\n",
       "    }\n",
       "\n",
       "    .dataframe thead th {\n",
       "        text-align: right;\n",
       "    }\n",
       "</style>\n",
       "<table border=\"1\" class=\"dataframe\">\n",
       "  <thead>\n",
       "    <tr style=\"text-align: right;\">\n",
       "      <th></th>\n",
       "      <th>patient_id</th>\n",
       "      <th>hba1c_start</th>\n",
       "      <th>hba1c_end</th>\n",
       "      <th>hba1c_change</th>\n",
       "      <th>treatment</th>\n",
       "      <th>start_dose</th>\n",
       "      <th>end_dose</th>\n",
       "      <th>adverse_reaction</th>\n",
       "      <th>dose_change</th>\n",
       "    </tr>\n",
       "  </thead>\n",
       "  <tbody>\n",
       "    <tr>\n",
       "      <th>0</th>\n",
       "      <td>1</td>\n",
       "      <td>7.71</td>\n",
       "      <td>7.30</td>\n",
       "      <td>0.41</td>\n",
       "      <td>novodra</td>\n",
       "      <td>33</td>\n",
       "      <td>33</td>\n",
       "      <td>NaN</td>\n",
       "      <td>0</td>\n",
       "    </tr>\n",
       "    <tr>\n",
       "      <th>1</th>\n",
       "      <td>2</td>\n",
       "      <td>9.53</td>\n",
       "      <td>9.10</td>\n",
       "      <td>0.43</td>\n",
       "      <td>novodra</td>\n",
       "      <td>27</td>\n",
       "      <td>29</td>\n",
       "      <td>NaN</td>\n",
       "      <td>2</td>\n",
       "    </tr>\n",
       "    <tr>\n",
       "      <th>2</th>\n",
       "      <td>4</td>\n",
       "      <td>7.58</td>\n",
       "      <td>7.10</td>\n",
       "      <td>0.48</td>\n",
       "      <td>novodra</td>\n",
       "      <td>43</td>\n",
       "      <td>48</td>\n",
       "      <td>NaN</td>\n",
       "      <td>5</td>\n",
       "    </tr>\n",
       "    <tr>\n",
       "      <th>3</th>\n",
       "      <td>6</td>\n",
       "      <td>7.73</td>\n",
       "      <td>7.34</td>\n",
       "      <td>0.39</td>\n",
       "      <td>auralin</td>\n",
       "      <td>50</td>\n",
       "      <td>60</td>\n",
       "      <td>NaN</td>\n",
       "      <td>10</td>\n",
       "    </tr>\n",
       "    <tr>\n",
       "      <th>4</th>\n",
       "      <td>7</td>\n",
       "      <td>7.65</td>\n",
       "      <td>7.26</td>\n",
       "      <td>0.39</td>\n",
       "      <td>novodra</td>\n",
       "      <td>32</td>\n",
       "      <td>33</td>\n",
       "      <td>NaN</td>\n",
       "      <td>1</td>\n",
       "    </tr>\n",
       "  </tbody>\n",
       "</table>\n",
       "</div>"
      ],
      "text/plain": [
       "   patient_id  hba1c_start  hba1c_end  hba1c_change treatment  start_dose  \\\n",
       "0           1         7.71       7.30          0.41   novodra          33   \n",
       "1           2         9.53       9.10          0.43   novodra          27   \n",
       "2           4         7.58       7.10          0.48   novodra          43   \n",
       "3           6         7.73       7.34          0.39   auralin          50   \n",
       "4           7         7.65       7.26          0.39   novodra          32   \n",
       "\n",
       "   end_dose adverse_reaction  dose_change  \n",
       "0        33              NaN            0  \n",
       "1        29              NaN            2  \n",
       "2        48              NaN            5  \n",
       "3        60              NaN           10  \n",
       "4        33              NaN            1  "
      ]
     },
     "execution_count": 20,
     "metadata": {},
     "output_type": "execute_result"
    }
   ],
   "source": [
    "treatments.head()"
   ]
  },
  {
   "cell_type": "markdown",
   "id": "a1f2e57d-7e5d-452c-9572-b482dc399918",
   "metadata": {},
   "source": [
    "#### Exploratory Data Analysis (EDA)\n",
    "\n",
    "- "
   ]
  },
  {
   "cell_type": "markdown",
   "id": "b86d7e21-01d5-4d5c-bec9-a8b4c5169b4f",
   "metadata": {},
   "source": [
    "#### Patients Gender"
   ]
  },
  {
   "cell_type": "code",
   "execution_count": 5,
   "id": "a6e1dcea-af62-4d76-b4b6-6fd8f2d086af",
   "metadata": {},
   "outputs": [],
   "source": [
    "plt.rcParams['figure.figsize'] = [5,3]"
   ]
  },
  {
   "cell_type": "code",
   "execution_count": 21,
   "id": "b82f2739-8955-4526-909f-26703742e2da",
   "metadata": {},
   "outputs": [
    {
     "data": {
      "image/png": "[encoded data removed]",
      "text/plain": [
       "<Figure size 500x300 with 1 Axes>"
      ]
     },
     "metadata": {},
     "output_type": "display_data"
    }
   ],
   "source": [
    "sns.countplot(patients.assigned_sex)\n",
    "plt.title( 'patients gender by category')\n",
    "plt.ylabel(\"\")\n",
    "plt.xlabel(\"\");"
   ]
  },
  {
   "cell_type": "markdown",
   "id": "208d1059-0463-4b65-9ef1-b2cf5495d375",
   "metadata": {},
   "source": [
    "#### Patients unique State"
   ]
  },
  {
   "cell_type": "code",
   "execution_count": 7,
   "id": "5c94928b-17ae-4156-ae9d-75fcf12222dc",
   "metadata": {},
   "outputs": [],
   "source": [
    "width = patients.state.value_counts().head(10).values"
   ]
  },
  {
   "cell_type": "code",
   "execution_count": 8,
   "id": "6a324219-c207-48fd-b109-1b41d0da387d",
   "metadata": {},
   "outputs": [],
   "source": [
    "y = patients.state.value_counts().head(10).index"
   ]
  },
  {
   "cell_type": "code",
   "execution_count": 9,
   "id": "3c6faf1c-c934-4cdc-b19a-97139ca5df40",
   "metadata": {},
   "outputs": [
    {
     "data": {
      "image/png": "[encoded data removed]",
      "text/plain": [
       "<Figure size 500x300 with 1 Axes>"
      ]
     },
     "metadata": {},
     "output_type": "display_data"
    }
   ],
   "source": [
    "plt.barh(y=y,width=width)\n",
    "\n",
    "plt.title( 'Top 10 patients state')\n",
    "plt.ylabel(\"\")\n",
    "plt.xlabel(\"\");"
   ]
  },
  {
   "cell_type": "markdown",
   "id": "84748eda-551b-401f-958c-34e4bbe9a277",
   "metadata": {},
   "source": [
    "#### End dose and Start dose treatment of Novodra and Auralin"
   ]
  },
  {
   "cell_type": "code",
   "execution_count": 10,
   "id": "1662ad76-284e-4249-bf1c-68de23d4f068",
   "metadata": {},
   "outputs": [
    {
     "data": {
      "image/png": "[encoded data removed]",
      "text/plain": [
       "<Figure size 500x300 with 1 Axes>"
      ]
     },
     "metadata": {},
     "output_type": "display_data"
    }
   ],
   "source": [
    "sns.violinplot(data = treatments, x='treatment', y='start_dose')\n",
    "plt.title('start_dose treatment')\n",
    "plt.ylabel(\"\")\n",
    "plt.xlabel(\"\");"
   ]
  },
  {
   "cell_type": "code",
   "execution_count": 11,
   "id": "fc5260c7-596d-4e3b-ba68-7e89d44514fa",
   "metadata": {},
   "outputs": [
    {
     "data": {
      "image/png": "[encoded data removed]",
      "text/plain": [
       "<Figure size 500x300 with 1 Axes>"
      ]
     },
     "metadata": {},
     "output_type": "display_data"
    }
   ],
   "source": [
    "sns.violinplot(data = treatments, x='treatment', y='end_dose')\n",
    "plt.title('end_dose treatment')\n",
    "plt.ylabel(\"\")\n",
    "plt.xlabel(\"\");"
   ]
  },
  {
   "cell_type": "markdown",
   "id": "81aacaf5-dda9-4633-a310-af94e90c4f46",
   "metadata": {},
   "source": [
    "From the above figures,we have observed that the distribution of the start and end doses for both Auralin and novodra are similar"
   ]
  },
  {
   "cell_type": "code",
   "execution_count": 12,
   "id": "4af0e4ea-30a1-4c15-bd3d-64775a8fa858",
   "metadata": {},
   "outputs": [],
   "source": [
    "treatments['dose_change'] = treatments.end_dose - treatments.start_dose"
   ]
  },
  {
   "cell_type": "code",
   "execution_count": 13,
   "id": "8112aca4-673a-464c-9543-b0781c707679",
   "metadata": {},
   "outputs": [
    {
     "data": {
      "text/plain": [
       "treatment\n",
       "auralin    8.325714\n",
       "novodra   -0.385057\n",
       "Name: dose_change, dtype: float64"
      ]
     },
     "execution_count": 13,
     "metadata": {},
     "output_type": "execute_result"
    }
   ],
   "source": [
    "treatments.groupby(['treatment'])['dose_change'].mean()"
   ]
  },
  {
   "cell_type": "markdown",
   "id": "1ae08ea4-65a3-4a81-9d1b-ee3379099a5f",
   "metadata": {},
   "source": [
    "##### On average, auralin requires more dosage then novodra\n",
    "\n",
    "The average dose change of 8 vs -0.4 is not bad for the following reason:\n",
    "\n",
    "- because auralin is an oral drug, it needs more dosage to enter the bloodstream\n",
    "- while novodra is injected directed into the bloodstream\n",
    "\n",
    "> we can conclude that given the acceptable dosage difference, auralin is economically viable\n"
   ]
  },
  {
   "cell_type": "markdown",
   "id": "9f9bcccd-5ed0-44d3-bfdf-1d7c21c05e25",
   "metadata": {},
   "source": [
    "#### The adverse reactions for both drugs\n"
   ]
  },
  {
   "cell_type": "code",
   "execution_count": 14,
   "id": "290635bc-ee96-4e9e-9cd0-f812a1d31763",
   "metadata": {},
   "outputs": [],
   "source": [
    "reaction = treatments.groupby(['treatment'])['adverse_reaction'].value_counts()"
   ]
  },
  {
   "cell_type": "code",
   "execution_count": 15,
   "id": "0dd60130-6768-4397-8493-c381e8596358",
   "metadata": {},
   "outputs": [
    {
     "data": {
      "image/png": "[encoded data removed]",
      "text/plain": [
       "<Figure size 500x300 with 1 Axes>"
      ]
     },
     "metadata": {},
     "output_type": "display_data"
    }
   ],
   "source": [
    "reaction.auralin.plot(kind='barh')\n",
    "plt.title('Adverse reactions for auraline')\n",
    "plt.ylabel(\"\");"
   ]
  },
  {
   "cell_type": "code",
   "execution_count": 19,
   "id": "4bb1590d-7a71-4f24-a5d1-52882ab55739",
   "metadata": {},
   "outputs": [
    {
     "data": {
      "image/png": "[encoded data removed]",
      "text/plain": [
       "<Figure size 500x300 with 1 Axes>"
      ]
     },
     "metadata": {},
     "output_type": "display_data"
    }
   ],
   "source": [
    "reaction.novodra.plot(kind='barh')\n",
    "plt.title('Adverse reactions for novodra')\n",
    "plt.ylabel(\"\");"
   ]
  },
  {
   "cell_type": "markdown",
   "id": "36a32093-6e1a-440a-ad63-084108a1bba2",
   "metadata": {},
   "source": [
    "From the above figures, we can conclude that Auraline has lesser adverse reactions to Novodra."
   ]
  },
  {
   "cell_type": "markdown",
   "id": "d7abacdd-dc28-4366-af53-d6f9af4469c4",
   "metadata": {},
   "source": [
    "#### we will proceed to test for the efficacy of the drugs"
   ]
  },
  {
   "cell_type": "code",
   "execution_count": 17,
   "id": "cc9e17bb-88ca-48ff-8495-b1ae3a6f00a0",
   "metadata": {},
   "outputs": [
    {
     "data": {
      "text/plain": [
       "treatment\n",
       "auralin    0.387657\n",
       "novodra    0.404713\n",
       "Name: hba1c_change, dtype: float64"
      ]
     },
     "execution_count": 17,
     "metadata": {},
     "output_type": "execute_result"
    }
   ],
   "source": [
    "efficacy = treatments.groupby(['treatment'])['hba1c_change'].mean()\n",
    "efficacy"
   ]
  },
  {
   "cell_type": "markdown",
   "id": "3be60a60-e0da-4013-b9a4-cb49b00f8147",
   "metadata": {},
   "source": [
    "The average hbA1c level change for auralin and novodra weren't so different."
   ]
  },
  {
   "cell_type": "code",
   "execution_count": 18,
   "id": "f1f13930-e1ab-4410-af56-dfed13404f05",
   "metadata": {},
   "outputs": [
    {
     "data": {
      "image/png": "[encoded data removed]",
      "text/plain": [
       "<Figure size 500x300 with 1 Axes>"
      ]
     },
     "metadata": {},
     "output_type": "display_data"
    }
   ],
   "source": [
    "efficacy.plot(kind='barh')\n",
    "plt.title('efficacy of drugs novodra vs auralin')\n",
    "plt.ylabel(\"\");"
   ]
  },
  {
   "cell_type": "markdown",
   "id": "0a46329c-0c88-4f7c-9925-149172dd1a4e",
   "metadata": {},
   "source": [
    "From the above figure, we can conclude that the efficacy of auralin and novodra were almost similar"
   ]
  },
  {
   "cell_type": "markdown",
   "id": "46b53270-2425-4b7a-b68d-2a924c6f45b7",
   "metadata": {},
   "source": [
    "#### Conclusion (recommendations)\n",
    "-  Quantified impact\n",
    "\n",
    "   Novodra is only 4% more effective than Auralin, but Auralin has lesser adverse reactions.\n",
    "\n",
    "- What the stakeholders should do next\n",
    "\n",
    "1. Move to phase 3 clinical trials.\n",
    "\n",
    "- Short-term and long-term actions\n",
    "\n",
    "1. Consider mass producing auralin for international sales and distribution.\n",
    "2. Enagage regulators to test and certify the drug."
   ]
  }
 ],
 "metadata": {
  "kernelspec": {
   "display_name": "Python 3 (ipykernel)",
   "language": "python",
   "name": "python3"
  },
  "language_info": {
   "codemirror_mode": {
    "name": "ipython",
    "version": 3
   },
   "file_extension": ".py",
   "mimetype": "text/x-python",
   "name": "python",
   "nbconvert_exporter": "python",
   "pygments_lexer": "ipython3",
   "version": "3.12.7"
  }
 },
 "nbformat": 4,
 "nbformat_minor": 5
}
